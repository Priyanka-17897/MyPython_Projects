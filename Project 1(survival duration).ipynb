{
 "cells": [
  {
   "cell_type": "markdown",
   "id": "dee3f678",
   "metadata": {},
   "source": [
    "Survival Duration Calculator Project \n",
    "\n",
    "Objective :\n",
    "\n",
    "The objective of the project is to calculate the duration of how long a person lived based on his Age. The duration should be calculated in different time units like Months, Weeks, Days, Hours, Minutes, Seconds\n",
    "The input to the application is an Age of a person and the output is expected to calculate the duration of time he lived in different time units as selected by the user."
   ]
  },
  {
   "cell_type": "code",
   "execution_count": 6,
   "id": "6d041320",
   "metadata": {},
   "outputs": [
    {
     "name": "stdout",
     "output_type": "stream",
     "text": [
      "What's your age? 28\n",
      "Please choose time unit: Months, Weeks, Days, Hours, Minutes, Seconds. \n",
      "Note: You can write the first letter or the full name of the time unit. w\n",
      "You lived for 1,344 Weeks\n"
     ]
    }
   ],
   "source": [
    "def duration_of_survival():\n",
    "\n",
    "    age = int(input(\"What's your age? \"))\n",
    "\n",
    "    unit = input(\"Please choose time unit: Months, Weeks, Days, Hours, Minutes, Seconds. \\nNote: You can write the first letter or the full name of the time unit. \").strip().lower()\n",
    "\n",
    "    months = age * 12\n",
    "    weeks = months * 4\n",
    "    days = age * 365\n",
    "    hours = days * 24\n",
    "    minutes = hours * 60\n",
    "    seconds = minutes * 60\n",
    "\n",
    "\n",
    "    if unit == 'months' or unit == 'm':\n",
    "        print(f'You lived for {months:,} Months')\n",
    "\n",
    "    elif unit == 'weeks' or unit == 'w':\n",
    "        print(f'You lived for {weeks:,} Weeks')\n",
    "\n",
    "    elif unit == 'days' or unit == 'd':\n",
    "        print(f'You lived for {days:,} Days')\n",
    "\n",
    "    elif unit == 'hours' or unit == 'h':\n",
    "        print(f'You lived for {hours:,} Hours')\n",
    "\n",
    "    elif unit == 'minutes' or unit == 'mi':\n",
    "        print(f'You lived for {minutes:,} Minutes')\n",
    "\n",
    "    elif unit == 'seconds' or unit == 's':\n",
    "        print(f'You lived for {seconds:,} Seconds')\n",
    "\n",
    "    else:\n",
    "        print('Your choice is not available')\n",
    "\n",
    "    return\n",
    "\n",
    "\n",
    "\n",
    "if __name__ == \"__main__\":\n",
    "\n",
    "     duration_of_survival()\n"
   ]
  },
  {
   "cell_type": "code",
   "execution_count": null,
   "id": "831b89a0",
   "metadata": {},
   "outputs": [],
   "source": []
  }
 ],
 "metadata": {
  "kernelspec": {
   "display_name": "Python 3 (ipykernel)",
   "language": "python",
   "name": "python3"
  },
  "language_info": {
   "codemirror_mode": {
    "name": "ipython",
    "version": 3
   },
   "file_extension": ".py",
   "mimetype": "text/x-python",
   "name": "python",
   "nbconvert_exporter": "python",
   "pygments_lexer": "ipython3",
   "version": "3.12.1"
  }
 },
 "nbformat": 4,
 "nbformat_minor": 5
}
